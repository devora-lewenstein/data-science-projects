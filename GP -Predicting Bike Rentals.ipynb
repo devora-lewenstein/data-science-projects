{
 "cells": [
  {
   "cell_type": "markdown",
   "metadata": {},
   "source": [
    "# Devora Lewenstein\n",
    "Predicting Bike Rentals\n"
   ]
  },
  {
   "cell_type": "code",
   "execution_count": 1,
   "metadata": {},
   "outputs": [],
   "source": [
    "import pandas as pd\n",
    "import numpy as np\n",
    "import matplotlib.pyplot as plt\n",
    "%matplotlib inline\n",
    "\n",
    "from sklearn.linear_model import LinearRegression\n",
    "from sklearn.tree import DecisionTreeRegressor\n",
    "from sklearn.ensemble import RandomForestRegressor\n",
    "import xgboost as xgb\n",
    "from sklearn.metrics import accuracy_score\n",
    "import math"
   ]
  },
  {
   "cell_type": "code",
   "execution_count": 2,
   "metadata": {
    "collapsed": false,
    "jupyter": {
     "outputs_hidden": false
    }
   },
   "outputs": [
    {
     "data": {
      "text/html": [
       "<div>\n",
       "<style scoped>\n",
       "    .dataframe tbody tr th:only-of-type {\n",
       "        vertical-align: middle;\n",
       "    }\n",
       "\n",
       "    .dataframe tbody tr th {\n",
       "        vertical-align: top;\n",
       "    }\n",
       "\n",
       "    .dataframe thead th {\n",
       "        text-align: right;\n",
       "    }\n",
       "</style>\n",
       "<table border=\"1\" class=\"dataframe\">\n",
       "  <thead>\n",
       "    <tr style=\"text-align: right;\">\n",
       "      <th></th>\n",
       "      <th>instant</th>\n",
       "      <th>dteday</th>\n",
       "      <th>season</th>\n",
       "      <th>yr</th>\n",
       "      <th>mnth</th>\n",
       "      <th>hr</th>\n",
       "      <th>holiday</th>\n",
       "      <th>weekday</th>\n",
       "      <th>workingday</th>\n",
       "      <th>weathersit</th>\n",
       "      <th>temp</th>\n",
       "      <th>atemp</th>\n",
       "      <th>hum</th>\n",
       "      <th>windspeed</th>\n",
       "      <th>casual</th>\n",
       "      <th>registered</th>\n",
       "      <th>cnt</th>\n",
       "    </tr>\n",
       "  </thead>\n",
       "  <tbody>\n",
       "    <tr>\n",
       "      <th>0</th>\n",
       "      <td>1</td>\n",
       "      <td>2011-01-01</td>\n",
       "      <td>1</td>\n",
       "      <td>0</td>\n",
       "      <td>1</td>\n",
       "      <td>0</td>\n",
       "      <td>0</td>\n",
       "      <td>6</td>\n",
       "      <td>0</td>\n",
       "      <td>1</td>\n",
       "      <td>0.24</td>\n",
       "      <td>0.2879</td>\n",
       "      <td>0.81</td>\n",
       "      <td>0.0000</td>\n",
       "      <td>3</td>\n",
       "      <td>13</td>\n",
       "      <td>16</td>\n",
       "    </tr>\n",
       "    <tr>\n",
       "      <th>1</th>\n",
       "      <td>2</td>\n",
       "      <td>2011-01-01</td>\n",
       "      <td>1</td>\n",
       "      <td>0</td>\n",
       "      <td>1</td>\n",
       "      <td>1</td>\n",
       "      <td>0</td>\n",
       "      <td>6</td>\n",
       "      <td>0</td>\n",
       "      <td>1</td>\n",
       "      <td>0.22</td>\n",
       "      <td>0.2727</td>\n",
       "      <td>0.80</td>\n",
       "      <td>0.0000</td>\n",
       "      <td>8</td>\n",
       "      <td>32</td>\n",
       "      <td>40</td>\n",
       "    </tr>\n",
       "    <tr>\n",
       "      <th>2</th>\n",
       "      <td>3</td>\n",
       "      <td>2011-01-01</td>\n",
       "      <td>1</td>\n",
       "      <td>0</td>\n",
       "      <td>1</td>\n",
       "      <td>2</td>\n",
       "      <td>0</td>\n",
       "      <td>6</td>\n",
       "      <td>0</td>\n",
       "      <td>1</td>\n",
       "      <td>0.22</td>\n",
       "      <td>0.2727</td>\n",
       "      <td>0.80</td>\n",
       "      <td>0.0000</td>\n",
       "      <td>5</td>\n",
       "      <td>27</td>\n",
       "      <td>32</td>\n",
       "    </tr>\n",
       "    <tr>\n",
       "      <th>3</th>\n",
       "      <td>4</td>\n",
       "      <td>2011-01-01</td>\n",
       "      <td>1</td>\n",
       "      <td>0</td>\n",
       "      <td>1</td>\n",
       "      <td>3</td>\n",
       "      <td>0</td>\n",
       "      <td>6</td>\n",
       "      <td>0</td>\n",
       "      <td>1</td>\n",
       "      <td>0.24</td>\n",
       "      <td>0.2879</td>\n",
       "      <td>0.75</td>\n",
       "      <td>0.0000</td>\n",
       "      <td>3</td>\n",
       "      <td>10</td>\n",
       "      <td>13</td>\n",
       "    </tr>\n",
       "    <tr>\n",
       "      <th>4</th>\n",
       "      <td>5</td>\n",
       "      <td>2011-01-01</td>\n",
       "      <td>1</td>\n",
       "      <td>0</td>\n",
       "      <td>1</td>\n",
       "      <td>4</td>\n",
       "      <td>0</td>\n",
       "      <td>6</td>\n",
       "      <td>0</td>\n",
       "      <td>1</td>\n",
       "      <td>0.24</td>\n",
       "      <td>0.2879</td>\n",
       "      <td>0.75</td>\n",
       "      <td>0.0000</td>\n",
       "      <td>0</td>\n",
       "      <td>1</td>\n",
       "      <td>1</td>\n",
       "    </tr>\n",
       "    <tr>\n",
       "      <th>...</th>\n",
       "      <td>...</td>\n",
       "      <td>...</td>\n",
       "      <td>...</td>\n",
       "      <td>...</td>\n",
       "      <td>...</td>\n",
       "      <td>...</td>\n",
       "      <td>...</td>\n",
       "      <td>...</td>\n",
       "      <td>...</td>\n",
       "      <td>...</td>\n",
       "      <td>...</td>\n",
       "      <td>...</td>\n",
       "      <td>...</td>\n",
       "      <td>...</td>\n",
       "      <td>...</td>\n",
       "      <td>...</td>\n",
       "      <td>...</td>\n",
       "    </tr>\n",
       "    <tr>\n",
       "      <th>17374</th>\n",
       "      <td>17375</td>\n",
       "      <td>2012-12-31</td>\n",
       "      <td>1</td>\n",
       "      <td>1</td>\n",
       "      <td>12</td>\n",
       "      <td>19</td>\n",
       "      <td>0</td>\n",
       "      <td>1</td>\n",
       "      <td>1</td>\n",
       "      <td>2</td>\n",
       "      <td>0.26</td>\n",
       "      <td>0.2576</td>\n",
       "      <td>0.60</td>\n",
       "      <td>0.1642</td>\n",
       "      <td>11</td>\n",
       "      <td>108</td>\n",
       "      <td>119</td>\n",
       "    </tr>\n",
       "    <tr>\n",
       "      <th>17375</th>\n",
       "      <td>17376</td>\n",
       "      <td>2012-12-31</td>\n",
       "      <td>1</td>\n",
       "      <td>1</td>\n",
       "      <td>12</td>\n",
       "      <td>20</td>\n",
       "      <td>0</td>\n",
       "      <td>1</td>\n",
       "      <td>1</td>\n",
       "      <td>2</td>\n",
       "      <td>0.26</td>\n",
       "      <td>0.2576</td>\n",
       "      <td>0.60</td>\n",
       "      <td>0.1642</td>\n",
       "      <td>8</td>\n",
       "      <td>81</td>\n",
       "      <td>89</td>\n",
       "    </tr>\n",
       "    <tr>\n",
       "      <th>17376</th>\n",
       "      <td>17377</td>\n",
       "      <td>2012-12-31</td>\n",
       "      <td>1</td>\n",
       "      <td>1</td>\n",
       "      <td>12</td>\n",
       "      <td>21</td>\n",
       "      <td>0</td>\n",
       "      <td>1</td>\n",
       "      <td>1</td>\n",
       "      <td>1</td>\n",
       "      <td>0.26</td>\n",
       "      <td>0.2576</td>\n",
       "      <td>0.60</td>\n",
       "      <td>0.1642</td>\n",
       "      <td>7</td>\n",
       "      <td>83</td>\n",
       "      <td>90</td>\n",
       "    </tr>\n",
       "    <tr>\n",
       "      <th>17377</th>\n",
       "      <td>17378</td>\n",
       "      <td>2012-12-31</td>\n",
       "      <td>1</td>\n",
       "      <td>1</td>\n",
       "      <td>12</td>\n",
       "      <td>22</td>\n",
       "      <td>0</td>\n",
       "      <td>1</td>\n",
       "      <td>1</td>\n",
       "      <td>1</td>\n",
       "      <td>0.26</td>\n",
       "      <td>0.2727</td>\n",
       "      <td>0.56</td>\n",
       "      <td>0.1343</td>\n",
       "      <td>13</td>\n",
       "      <td>48</td>\n",
       "      <td>61</td>\n",
       "    </tr>\n",
       "    <tr>\n",
       "      <th>17378</th>\n",
       "      <td>17379</td>\n",
       "      <td>2012-12-31</td>\n",
       "      <td>1</td>\n",
       "      <td>1</td>\n",
       "      <td>12</td>\n",
       "      <td>23</td>\n",
       "      <td>0</td>\n",
       "      <td>1</td>\n",
       "      <td>1</td>\n",
       "      <td>1</td>\n",
       "      <td>0.26</td>\n",
       "      <td>0.2727</td>\n",
       "      <td>0.65</td>\n",
       "      <td>0.1343</td>\n",
       "      <td>12</td>\n",
       "      <td>37</td>\n",
       "      <td>49</td>\n",
       "    </tr>\n",
       "  </tbody>\n",
       "</table>\n",
       "<p>17379 rows × 17 columns</p>\n",
       "</div>"
      ],
      "text/plain": [
       "       instant      dteday  season  yr  mnth  hr  holiday  weekday  \\\n",
       "0            1  2011-01-01       1   0     1   0        0        6   \n",
       "1            2  2011-01-01       1   0     1   1        0        6   \n",
       "2            3  2011-01-01       1   0     1   2        0        6   \n",
       "3            4  2011-01-01       1   0     1   3        0        6   \n",
       "4            5  2011-01-01       1   0     1   4        0        6   \n",
       "...        ...         ...     ...  ..   ...  ..      ...      ...   \n",
       "17374    17375  2012-12-31       1   1    12  19        0        1   \n",
       "17375    17376  2012-12-31       1   1    12  20        0        1   \n",
       "17376    17377  2012-12-31       1   1    12  21        0        1   \n",
       "17377    17378  2012-12-31       1   1    12  22        0        1   \n",
       "17378    17379  2012-12-31       1   1    12  23        0        1   \n",
       "\n",
       "       workingday  weathersit  temp   atemp   hum  windspeed  casual  \\\n",
       "0               0           1  0.24  0.2879  0.81     0.0000       3   \n",
       "1               0           1  0.22  0.2727  0.80     0.0000       8   \n",
       "2               0           1  0.22  0.2727  0.80     0.0000       5   \n",
       "3               0           1  0.24  0.2879  0.75     0.0000       3   \n",
       "4               0           1  0.24  0.2879  0.75     0.0000       0   \n",
       "...           ...         ...   ...     ...   ...        ...     ...   \n",
       "17374           1           2  0.26  0.2576  0.60     0.1642      11   \n",
       "17375           1           2  0.26  0.2576  0.60     0.1642       8   \n",
       "17376           1           1  0.26  0.2576  0.60     0.1642       7   \n",
       "17377           1           1  0.26  0.2727  0.56     0.1343      13   \n",
       "17378           1           1  0.26  0.2727  0.65     0.1343      12   \n",
       "\n",
       "       registered  cnt  \n",
       "0              13   16  \n",
       "1              32   40  \n",
       "2              27   32  \n",
       "3              10   13  \n",
       "4               1    1  \n",
       "...           ...  ...  \n",
       "17374         108  119  \n",
       "17375          81   89  \n",
       "17376          83   90  \n",
       "17377          48   61  \n",
       "17378          37   49  \n",
       "\n",
       "[17379 rows x 17 columns]"
      ]
     },
     "execution_count": 2,
     "metadata": {},
     "output_type": "execute_result"
    }
   ],
   "source": [
    "bike_rentals = pd.read_csv(\"bike_rental_hour.csv\")\n",
    "bike_rentals"
   ]
  },
  {
   "cell_type": "code",
   "execution_count": 3,
   "metadata": {
    "collapsed": false,
    "jupyter": {
     "outputs_hidden": false
    }
   },
   "outputs": [
    {
     "data": {
      "text/plain": [
       "(array([6972., 3705., 2659., 1660.,  987.,  663.,  369.,  188.,  139.,\n",
       "          37.]),\n",
       " array([  1. ,  98.6, 196.2, 293.8, 391.4, 489. , 586.6, 684.2, 781.8,\n",
       "        879.4, 977. ]),\n",
       " <BarContainer object of 10 artists>)"
      ]
     },
     "execution_count": 3,
     "metadata": {},
     "output_type": "execute_result"
    },
    {
     "data": {
      "image/png": "[encoded data removed]",
      "text/plain": [
       "<Figure size 432x288 with 1 Axes>"
      ]
     },
     "metadata": {
      "needs_background": "light"
     },
     "output_type": "display_data"
    }
   ],
   "source": [
    "plt.hist(bike_rentals[\"cnt\"])"
   ]
  },
  {
   "cell_type": "code",
   "execution_count": 4,
   "metadata": {
    "collapsed": false,
    "jupyter": {
     "outputs_hidden": false
    }
   },
   "outputs": [
    {
     "data": {
      "text/plain": [
       "instant       0.278379\n",
       "season        0.178056\n",
       "yr            0.250495\n",
       "mnth          0.120638\n",
       "hr            0.394071\n",
       "holiday      -0.030927\n",
       "weekday       0.026900\n",
       "workingday    0.030284\n",
       "weathersit   -0.142426\n",
       "temp          0.404772\n",
       "atemp         0.400929\n",
       "hum          -0.322911\n",
       "windspeed     0.093234\n",
       "casual        0.694564\n",
       "registered    0.972151\n",
       "cnt           1.000000\n",
       "Name: cnt, dtype: float64"
      ]
     },
     "execution_count": 4,
     "metadata": {},
     "output_type": "execute_result"
    }
   ],
   "source": [
    "bike_rentals.corr()[\"cnt\"]"
   ]
  },
  {
   "cell_type": "code",
   "execution_count": 5,
   "metadata": {
    "collapsed": false,
    "jupyter": {
     "outputs_hidden": false
    }
   },
   "outputs": [],
   "source": [
    "def assign_label(value):\n",
    "    if value >= 6 and value <12:\n",
    "        return 1\n",
    "    elif value >=12 and value <18:\n",
    "        return 2\n",
    "    elif value >=18 and value <24:\n",
    "        return 3\n",
    "    elif value >=0 and value <6:\n",
    "        return 4\n",
    "        \n",
    "bike_rentals[\"time_label\"] = bike_rentals[\"hr\"].apply(assign_label)"
   ]
  },
  {
   "cell_type": "code",
   "execution_count": 6,
   "metadata": {
    "collapsed": false,
    "jupyter": {
     "outputs_hidden": false
    }
   },
   "outputs": [
    {
     "data": {
      "text/html": [
       "<div>\n",
       "<style scoped>\n",
       "    .dataframe tbody tr th:only-of-type {\n",
       "        vertical-align: middle;\n",
       "    }\n",
       "\n",
       "    .dataframe tbody tr th {\n",
       "        vertical-align: top;\n",
       "    }\n",
       "\n",
       "    .dataframe thead th {\n",
       "        text-align: right;\n",
       "    }\n",
       "</style>\n",
       "<table border=\"1\" class=\"dataframe\">\n",
       "  <thead>\n",
       "    <tr style=\"text-align: right;\">\n",
       "      <th></th>\n",
       "      <th>instant</th>\n",
       "      <th>dteday</th>\n",
       "      <th>season</th>\n",
       "      <th>yr</th>\n",
       "      <th>mnth</th>\n",
       "      <th>hr</th>\n",
       "      <th>holiday</th>\n",
       "      <th>weekday</th>\n",
       "      <th>workingday</th>\n",
       "      <th>weathersit</th>\n",
       "      <th>temp</th>\n",
       "      <th>atemp</th>\n",
       "      <th>hum</th>\n",
       "      <th>windspeed</th>\n",
       "      <th>casual</th>\n",
       "      <th>registered</th>\n",
       "      <th>cnt</th>\n",
       "      <th>time_label</th>\n",
       "    </tr>\n",
       "  </thead>\n",
       "  <tbody>\n",
       "    <tr>\n",
       "      <th>0</th>\n",
       "      <td>1</td>\n",
       "      <td>2011-01-01</td>\n",
       "      <td>1</td>\n",
       "      <td>0</td>\n",
       "      <td>1</td>\n",
       "      <td>0</td>\n",
       "      <td>0</td>\n",
       "      <td>6</td>\n",
       "      <td>0</td>\n",
       "      <td>1</td>\n",
       "      <td>0.24</td>\n",
       "      <td>0.2879</td>\n",
       "      <td>0.81</td>\n",
       "      <td>0.0000</td>\n",
       "      <td>3</td>\n",
       "      <td>13</td>\n",
       "      <td>16</td>\n",
       "      <td>4</td>\n",
       "    </tr>\n",
       "    <tr>\n",
       "      <th>1</th>\n",
       "      <td>2</td>\n",
       "      <td>2011-01-01</td>\n",
       "      <td>1</td>\n",
       "      <td>0</td>\n",
       "      <td>1</td>\n",
       "      <td>1</td>\n",
       "      <td>0</td>\n",
       "      <td>6</td>\n",
       "      <td>0</td>\n",
       "      <td>1</td>\n",
       "      <td>0.22</td>\n",
       "      <td>0.2727</td>\n",
       "      <td>0.80</td>\n",
       "      <td>0.0000</td>\n",
       "      <td>8</td>\n",
       "      <td>32</td>\n",
       "      <td>40</td>\n",
       "      <td>4</td>\n",
       "    </tr>\n",
       "    <tr>\n",
       "      <th>2</th>\n",
       "      <td>3</td>\n",
       "      <td>2011-01-01</td>\n",
       "      <td>1</td>\n",
       "      <td>0</td>\n",
       "      <td>1</td>\n",
       "      <td>2</td>\n",
       "      <td>0</td>\n",
       "      <td>6</td>\n",
       "      <td>0</td>\n",
       "      <td>1</td>\n",
       "      <td>0.22</td>\n",
       "      <td>0.2727</td>\n",
       "      <td>0.80</td>\n",
       "      <td>0.0000</td>\n",
       "      <td>5</td>\n",
       "      <td>27</td>\n",
       "      <td>32</td>\n",
       "      <td>4</td>\n",
       "    </tr>\n",
       "    <tr>\n",
       "      <th>3</th>\n",
       "      <td>4</td>\n",
       "      <td>2011-01-01</td>\n",
       "      <td>1</td>\n",
       "      <td>0</td>\n",
       "      <td>1</td>\n",
       "      <td>3</td>\n",
       "      <td>0</td>\n",
       "      <td>6</td>\n",
       "      <td>0</td>\n",
       "      <td>1</td>\n",
       "      <td>0.24</td>\n",
       "      <td>0.2879</td>\n",
       "      <td>0.75</td>\n",
       "      <td>0.0000</td>\n",
       "      <td>3</td>\n",
       "      <td>10</td>\n",
       "      <td>13</td>\n",
       "      <td>4</td>\n",
       "    </tr>\n",
       "    <tr>\n",
       "      <th>4</th>\n",
       "      <td>5</td>\n",
       "      <td>2011-01-01</td>\n",
       "      <td>1</td>\n",
       "      <td>0</td>\n",
       "      <td>1</td>\n",
       "      <td>4</td>\n",
       "      <td>0</td>\n",
       "      <td>6</td>\n",
       "      <td>0</td>\n",
       "      <td>1</td>\n",
       "      <td>0.24</td>\n",
       "      <td>0.2879</td>\n",
       "      <td>0.75</td>\n",
       "      <td>0.0000</td>\n",
       "      <td>0</td>\n",
       "      <td>1</td>\n",
       "      <td>1</td>\n",
       "      <td>4</td>\n",
       "    </tr>\n",
       "    <tr>\n",
       "      <th>...</th>\n",
       "      <td>...</td>\n",
       "      <td>...</td>\n",
       "      <td>...</td>\n",
       "      <td>...</td>\n",
       "      <td>...</td>\n",
       "      <td>...</td>\n",
       "      <td>...</td>\n",
       "      <td>...</td>\n",
       "      <td>...</td>\n",
       "      <td>...</td>\n",
       "      <td>...</td>\n",
       "      <td>...</td>\n",
       "      <td>...</td>\n",
       "      <td>...</td>\n",
       "      <td>...</td>\n",
       "      <td>...</td>\n",
       "      <td>...</td>\n",
       "      <td>...</td>\n",
       "    </tr>\n",
       "    <tr>\n",
       "      <th>17374</th>\n",
       "      <td>17375</td>\n",
       "      <td>2012-12-31</td>\n",
       "      <td>1</td>\n",
       "      <td>1</td>\n",
       "      <td>12</td>\n",
       "      <td>19</td>\n",
       "      <td>0</td>\n",
       "      <td>1</td>\n",
       "      <td>1</td>\n",
       "      <td>2</td>\n",
       "      <td>0.26</td>\n",
       "      <td>0.2576</td>\n",
       "      <td>0.60</td>\n",
       "      <td>0.1642</td>\n",
       "      <td>11</td>\n",
       "      <td>108</td>\n",
       "      <td>119</td>\n",
       "      <td>3</td>\n",
       "    </tr>\n",
       "    <tr>\n",
       "      <th>17375</th>\n",
       "      <td>17376</td>\n",
       "      <td>2012-12-31</td>\n",
       "      <td>1</td>\n",
       "      <td>1</td>\n",
       "      <td>12</td>\n",
       "      <td>20</td>\n",
       "      <td>0</td>\n",
       "      <td>1</td>\n",
       "      <td>1</td>\n",
       "      <td>2</td>\n",
       "      <td>0.26</td>\n",
       "      <td>0.2576</td>\n",
       "      <td>0.60</td>\n",
       "      <td>0.1642</td>\n",
       "      <td>8</td>\n",
       "      <td>81</td>\n",
       "      <td>89</td>\n",
       "      <td>3</td>\n",
       "    </tr>\n",
       "    <tr>\n",
       "      <th>17376</th>\n",
       "      <td>17377</td>\n",
       "      <td>2012-12-31</td>\n",
       "      <td>1</td>\n",
       "      <td>1</td>\n",
       "      <td>12</td>\n",
       "      <td>21</td>\n",
       "      <td>0</td>\n",
       "      <td>1</td>\n",
       "      <td>1</td>\n",
       "      <td>1</td>\n",
       "      <td>0.26</td>\n",
       "      <td>0.2576</td>\n",
       "      <td>0.60</td>\n",
       "      <td>0.1642</td>\n",
       "      <td>7</td>\n",
       "      <td>83</td>\n",
       "      <td>90</td>\n",
       "      <td>3</td>\n",
       "    </tr>\n",
       "    <tr>\n",
       "      <th>17377</th>\n",
       "      <td>17378</td>\n",
       "      <td>2012-12-31</td>\n",
       "      <td>1</td>\n",
       "      <td>1</td>\n",
       "      <td>12</td>\n",
       "      <td>22</td>\n",
       "      <td>0</td>\n",
       "      <td>1</td>\n",
       "      <td>1</td>\n",
       "      <td>1</td>\n",
       "      <td>0.26</td>\n",
       "      <td>0.2727</td>\n",
       "      <td>0.56</td>\n",
       "      <td>0.1343</td>\n",
       "      <td>13</td>\n",
       "      <td>48</td>\n",
       "      <td>61</td>\n",
       "      <td>3</td>\n",
       "    </tr>\n",
       "    <tr>\n",
       "      <th>17378</th>\n",
       "      <td>17379</td>\n",
       "      <td>2012-12-31</td>\n",
       "      <td>1</td>\n",
       "      <td>1</td>\n",
       "      <td>12</td>\n",
       "      <td>23</td>\n",
       "      <td>0</td>\n",
       "      <td>1</td>\n",
       "      <td>1</td>\n",
       "      <td>1</td>\n",
       "      <td>0.26</td>\n",
       "      <td>0.2727</td>\n",
       "      <td>0.65</td>\n",
       "      <td>0.1343</td>\n",
       "      <td>12</td>\n",
       "      <td>37</td>\n",
       "      <td>49</td>\n",
       "      <td>3</td>\n",
       "    </tr>\n",
       "  </tbody>\n",
       "</table>\n",
       "<p>17379 rows × 18 columns</p>\n",
       "</div>"
      ],
      "text/plain": [
       "       instant      dteday  season  yr  mnth  hr  holiday  weekday  \\\n",
       "0            1  2011-01-01       1   0     1   0        0        6   \n",
       "1            2  2011-01-01       1   0     1   1        0        6   \n",
       "2            3  2011-01-01       1   0     1   2        0        6   \n",
       "3            4  2011-01-01       1   0     1   3        0        6   \n",
       "4            5  2011-01-01       1   0     1   4        0        6   \n",
       "...        ...         ...     ...  ..   ...  ..      ...      ...   \n",
       "17374    17375  2012-12-31       1   1    12  19        0        1   \n",
       "17375    17376  2012-12-31       1   1    12  20        0        1   \n",
       "17376    17377  2012-12-31       1   1    12  21        0        1   \n",
       "17377    17378  2012-12-31       1   1    12  22        0        1   \n",
       "17378    17379  2012-12-31       1   1    12  23        0        1   \n",
       "\n",
       "       workingday  weathersit  temp   atemp   hum  windspeed  casual  \\\n",
       "0               0           1  0.24  0.2879  0.81     0.0000       3   \n",
       "1               0           1  0.22  0.2727  0.80     0.0000       8   \n",
       "2               0           1  0.22  0.2727  0.80     0.0000       5   \n",
       "3               0           1  0.24  0.2879  0.75     0.0000       3   \n",
       "4               0           1  0.24  0.2879  0.75     0.0000       0   \n",
       "...           ...         ...   ...     ...   ...        ...     ...   \n",
       "17374           1           2  0.26  0.2576  0.60     0.1642      11   \n",
       "17375           1           2  0.26  0.2576  0.60     0.1642       8   \n",
       "17376           1           1  0.26  0.2576  0.60     0.1642       7   \n",
       "17377           1           1  0.26  0.2727  0.56     0.1343      13   \n",
       "17378           1           1  0.26  0.2727  0.65     0.1343      12   \n",
       "\n",
       "       registered  cnt  time_label  \n",
       "0              13   16           4  \n",
       "1              32   40           4  \n",
       "2              27   32           4  \n",
       "3              10   13           4  \n",
       "4               1    1           4  \n",
       "...           ...  ...         ...  \n",
       "17374         108  119           3  \n",
       "17375          81   89           3  \n",
       "17376          83   90           3  \n",
       "17377          48   61           3  \n",
       "17378          37   49           3  \n",
       "\n",
       "[17379 rows x 18 columns]"
      ]
     },
     "execution_count": 6,
     "metadata": {},
     "output_type": "execute_result"
    }
   ],
   "source": [
    "bike_rentals"
   ]
  },
  {
   "cell_type": "markdown",
   "metadata": {},
   "source": [
    "mse makes the most sense as the columns are mainly numeric columns"
   ]
  },
  {
   "cell_type": "code",
   "execution_count": 7,
   "metadata": {
    "collapsed": false,
    "jupyter": {
     "outputs_hidden": false
    }
   },
   "outputs": [],
   "source": [
    "train = bike_rentals.sample(frac=.8)"
   ]
  },
  {
   "cell_type": "code",
   "execution_count": 8,
   "metadata": {},
   "outputs": [],
   "source": [
    "test = bike_rentals.loc[~bike_rentals.index.isin(train.index)]"
   ]
  },
  {
   "cell_type": "code",
   "execution_count": 9,
   "metadata": {
    "collapsed": false,
    "jupyter": {
     "outputs_hidden": false
    }
   },
   "outputs": [],
   "source": [
    "train_target = train['cnt']\n",
    "test_target =test['cnt']"
   ]
  },
  {
   "cell_type": "code",
   "execution_count": 10,
   "metadata": {
    "collapsed": false,
    "jupyter": {
     "outputs_hidden": false
    }
   },
   "outputs": [],
   "source": [
    "train = train.drop(['cnt', 'casual', 'dteday', 'registered'], axis=1)\n",
    "test = test.drop(['cnt', 'casual', 'dteday', 'registered'], axis=1)"
   ]
  },
  {
   "cell_type": "code",
   "execution_count": 11,
   "metadata": {
    "collapsed": false,
    "jupyter": {
     "outputs_hidden": false
    }
   },
   "outputs": [
    {
     "data": {
      "text/plain": [
       "['instant',\n",
       " 'season',\n",
       " 'yr',\n",
       " 'mnth',\n",
       " 'hr',\n",
       " 'holiday',\n",
       " 'weekday',\n",
       " 'workingday',\n",
       " 'weathersit',\n",
       " 'temp',\n",
       " 'atemp',\n",
       " 'hum',\n",
       " 'windspeed',\n",
       " 'time_label']"
      ]
     },
     "execution_count": 11,
     "metadata": {},
     "output_type": "execute_result"
    }
   ],
   "source": [
    "columns = list(train.columns)\n",
    "columns"
   ]
  },
  {
   "cell_type": "code",
   "execution_count": 12,
   "metadata": {},
   "outputs": [],
   "source": [
    "def rmse_param_model(mod):\n",
    "    model=mod\n",
    "    model.fit(train[columns], train_target)\n",
    "    prediction = model.predict(test[columns])\n",
    "    mse=np.mean((prediction - test_target) ** 2)\n",
    "    rmse = math.sqrt(mse)\n",
    "    print(model.get_params())\n",
    "    return rmse\n",
    "\n",
    "def rmse_model(mod):\n",
    "    model=mod\n",
    "    model.fit(train[columns], train_target)\n",
    "    prediction = model.predict(test[columns])\n",
    "    mse=np.mean((prediction - test_target) ** 2)\n",
    "    rmse = math.sqrt(mse)\n",
    "    return rmse"
   ]
  },
  {
   "cell_type": "code",
   "execution_count": 13,
   "metadata": {},
   "outputs": [
    {
     "name": "stdout",
     "output_type": "stream",
     "text": [
      "{'copy_X': True, 'fit_intercept': True, 'n_jobs': None, 'normalize': False}\n"
     ]
    },
    {
     "data": {
      "text/plain": [
       "132.68062686185385"
      ]
     },
     "execution_count": 13,
     "metadata": {},
     "output_type": "execute_result"
    }
   ],
   "source": [
    "linear_regression=rmse_param_model(LinearRegression())\n",
    "linear_regression"
   ]
  },
  {
   "cell_type": "markdown",
   "metadata": {},
   "source": [
    "The mse is very high.  There data is skewed with some a few extremely high rental counts, which leads to a higher total error."
   ]
  },
  {
   "cell_type": "code",
   "execution_count": 14,
   "metadata": {},
   "outputs": [
    {
     "name": "stdout",
     "output_type": "stream",
     "text": [
      "{'ccp_alpha': 0.0, 'criterion': 'mse', 'max_depth': None, 'max_features': None, 'max_leaf_nodes': None, 'min_impurity_decrease': 0.0, 'min_impurity_split': None, 'min_samples_leaf': 2, 'min_samples_split': 2, 'min_weight_fraction_leaf': 0.0, 'presort': 'deprecated', 'random_state': None, 'splitter': 'best'}\n"
     ]
    },
    {
     "data": {
      "text/plain": [
       "51.78581251490529"
      ]
     },
     "execution_count": 14,
     "metadata": {},
     "output_type": "execute_result"
    }
   ],
   "source": [
    "decision_tree1=rmse_param_model(DecisionTreeRegressor(min_samples_leaf=2))\n",
    "decision_tree1"
   ]
  },
  {
   "cell_type": "code",
   "execution_count": 15,
   "metadata": {},
   "outputs": [
    {
     "name": "stdout",
     "output_type": "stream",
     "text": [
      "{'ccp_alpha': 0.0, 'criterion': 'mse', 'max_depth': None, 'max_features': None, 'max_leaf_nodes': None, 'min_impurity_decrease': 0.0, 'min_impurity_split': None, 'min_samples_leaf': 5, 'min_samples_split': 2, 'min_weight_fraction_leaf': 0.0, 'presort': 'deprecated', 'random_state': None, 'splitter': 'best'}\n"
     ]
    },
    {
     "data": {
      "text/plain": [
       "50.80456501978294"
      ]
     },
     "execution_count": 15,
     "metadata": {},
     "output_type": "execute_result"
    }
   ],
   "source": [
    "decision_tree2= rmse_param_model(DecisionTreeRegressor(min_samples_leaf=5))\n",
    "decision_tree2"
   ]
  },
  {
   "cell_type": "markdown",
   "metadata": {},
   "source": [
    "DecisionTreeRegressor does a better job as it takes out the nonlinear predictores into account allowing a higher accuracy"
   ]
  },
  {
   "cell_type": "code",
   "execution_count": 16,
   "metadata": {},
   "outputs": [
    {
     "name": "stdout",
     "output_type": "stream",
     "text": [
      "{'bootstrap': True, 'ccp_alpha': 0.0, 'criterion': 'mse', 'max_depth': None, 'max_features': 'auto', 'max_leaf_nodes': None, 'max_samples': None, 'min_impurity_decrease': 0.0, 'min_impurity_split': None, 'min_samples_leaf': 5, 'min_samples_split': 2, 'min_weight_fraction_leaf': 0.0, 'n_estimators': 100, 'n_jobs': None, 'oob_score': False, 'random_state': None, 'verbose': 0, 'warm_start': False}\n"
     ]
    },
    {
     "data": {
      "text/plain": [
       "44.7708241182126"
      ]
     },
     "execution_count": 16,
     "metadata": {},
     "output_type": "execute_result"
    }
   ],
   "source": [
    "random_forest_rmse1 = rmse_param_model(RandomForestRegressor(min_samples_leaf=5))\n",
    "random_forest_rmse1"
   ]
  },
  {
   "cell_type": "code",
   "execution_count": 17,
   "metadata": {},
   "outputs": [
    {
     "name": "stdout",
     "output_type": "stream",
     "text": [
      "{'bootstrap': True, 'ccp_alpha': 0.0, 'criterion': 'mse', 'max_depth': None, 'max_features': 'auto', 'max_leaf_nodes': None, 'max_samples': None, 'min_impurity_decrease': 0.0, 'min_impurity_split': None, 'min_samples_leaf': 2, 'min_samples_split': 2, 'min_weight_fraction_leaf': 0.0, 'n_estimators': 100, 'n_jobs': None, 'oob_score': False, 'random_state': None, 'verbose': 0, 'warm_start': False}\n"
     ]
    },
    {
     "data": {
      "text/plain": [
       "42.385505671412"
      ]
     },
     "execution_count": 17,
     "metadata": {},
     "output_type": "execute_result"
    }
   ],
   "source": [
    "random_forest_rmse2 = rmse_param_model(RandomForestRegressor(min_samples_leaf=2))\n",
    "random_forest_rmse2"
   ]
  },
  {
   "cell_type": "raw",
   "metadata": {},
   "source": [
    "Random Forest Trees is even more accurate as it removes the source of the overfitting"
   ]
  },
  {
   "cell_type": "code",
   "execution_count": 18,
   "metadata": {},
   "outputs": [
    {
     "name": "stdout",
     "output_type": "stream",
     "text": [
      "ETA: 0.1 ..... n_estimator 1 ==== rmse: 239.76019793094108\n",
      "ETA: 0.2 ..... n_estimator 1 ==== rmse: 218.27347029706362\n",
      "ETA: 0.3 ..... n_estimator 1 ==== rmse: 197.41187133049206\n",
      "ETA: 0.4 ..... n_estimator 1 ==== rmse: 177.39608358115495\n",
      "ETA: 0.5 ..... n_estimator 1 ==== rmse: 158.54677077979994\n",
      "ETA: 0.6 ..... n_estimator 1 ==== rmse: 141.3314149526114\n",
      "ETA: 0.7 ..... n_estimator 1 ==== rmse: 126.41932478839632\n",
      "ETA: 0.8 ..... n_estimator 1 ==== rmse: 114.71226476422129\n",
      "ETA: 0.9 ..... n_estimator 1 ==== rmse: 107.26484716289839\n",
      "ETA: 1 ..... n_estimator 1 ==== rmse: 104.98749573060451\n",
      "\n",
      "________\n",
      "ETA: 0.1 ..... n_estimator 11 ==== rmse: 115.60986480523925\n",
      "ETA: 0.2 ..... n_estimator 11 ==== rmse: 68.5535482295524\n",
      "ETA: 0.3 ..... n_estimator 11 ==== rmse: 57.419548414960225\n",
      "ETA: 0.4 ..... n_estimator 11 ==== rmse: 52.08355715009575\n",
      "ETA: 0.5 ..... n_estimator 11 ==== rmse: 51.2853532191405\n",
      "ETA: 0.6 ..... n_estimator 11 ==== rmse: 50.186734570545646\n",
      "ETA: 0.7 ..... n_estimator 11 ==== rmse: 50.8913666799892\n",
      "ETA: 0.8 ..... n_estimator 11 ==== rmse: 52.15830970145568\n",
      "ETA: 0.9 ..... n_estimator 11 ==== rmse: 53.91274130017155\n",
      "ETA: 1 ..... n_estimator 11 ==== rmse: 54.19708150835232\n",
      "\n",
      "________\n",
      "ETA: 0.1 ..... n_estimator 21 ==== rmse: 75.06862283569949\n",
      "ETA: 0.2 ..... n_estimator 21 ==== rmse: 51.272420509477286\n",
      "ETA: 0.3 ..... n_estimator 21 ==== rmse: 46.58891991125117\n",
      "ETA: 0.4 ..... n_estimator 21 ==== rmse: 46.26102188198189\n",
      "ETA: 0.5 ..... n_estimator 21 ==== rmse: 47.25711863064315\n",
      "ETA: 0.6 ..... n_estimator 21 ==== rmse: 46.89629119674817\n",
      "ETA: 0.7 ..... n_estimator 21 ==== rmse: 47.34592872099914\n",
      "ETA: 0.8 ..... n_estimator 21 ==== rmse: 49.00694812932496\n",
      "ETA: 0.9 ..... n_estimator 21 ==== rmse: 50.79403828149373\n",
      "ETA: 1 ..... n_estimator 21 ==== rmse: 50.498479747854546\n",
      "\n",
      "________\n",
      "ETA: 0.1 ..... n_estimator 31 ==== rmse: 57.4320521668497\n",
      "ETA: 0.2 ..... n_estimator 31 ==== rmse: 46.9133775793385\n",
      "ETA: 0.3 ..... n_estimator 31 ==== rmse: 44.81687898565462\n",
      "ETA: 0.4 ..... n_estimator 31 ==== rmse: 44.533097225430474\n",
      "ETA: 0.5 ..... n_estimator 31 ==== rmse: 45.11269991899529\n",
      "ETA: 0.6 ..... n_estimator 31 ==== rmse: 45.667461488179974\n",
      "ETA: 0.7 ..... n_estimator 31 ==== rmse: 46.3015758693542\n",
      "ETA: 0.8 ..... n_estimator 31 ==== rmse: 47.28197729611134\n",
      "ETA: 0.9 ..... n_estimator 31 ==== rmse: 48.97094155379876\n",
      "ETA: 1 ..... n_estimator 31 ==== rmse: 49.5076680382648\n",
      "\n",
      "________\n",
      "ETA: 0.1 ..... n_estimator 41 ==== rmse: 51.75143173958709\n",
      "ETA: 0.2 ..... n_estimator 41 ==== rmse: 45.01435231607052\n",
      "ETA: 0.3 ..... n_estimator 41 ==== rmse: 43.55894840819604\n",
      "ETA: 0.4 ..... n_estimator 41 ==== rmse: 43.571372887188424\n",
      "ETA: 0.5 ..... n_estimator 41 ==== rmse: 43.7070522124314\n",
      "ETA: 0.6 ..... n_estimator 41 ==== rmse: 44.34999682172155\n",
      "ETA: 0.7 ..... n_estimator 41 ==== rmse: 45.16301924265047\n",
      "ETA: 0.8 ..... n_estimator 41 ==== rmse: 46.31336562369809\n",
      "ETA: 0.9 ..... n_estimator 41 ==== rmse: 48.41528006866424\n",
      "ETA: 1 ..... n_estimator 41 ==== rmse: 48.65991217020506\n",
      "\n",
      "________\n",
      "ETA: 0.1 ..... n_estimator 51 ==== rmse: 48.38187848075095\n",
      "ETA: 0.2 ..... n_estimator 51 ==== rmse: 44.010634599552354\n",
      "ETA: 0.3 ..... n_estimator 51 ==== rmse: 42.506205781853595\n",
      "ETA: 0.4 ..... n_estimator 51 ==== rmse: 42.730162456110044\n",
      "ETA: 0.5 ..... n_estimator 51 ==== rmse: 43.16613565381592\n",
      "ETA: 0.6 ..... n_estimator 51 ==== rmse: 43.526341708248296\n",
      "ETA: 0.7 ..... n_estimator 51 ==== rmse: 44.24475563139889\n",
      "ETA: 0.8 ..... n_estimator 51 ==== rmse: 45.94831540977776\n",
      "ETA: 0.9 ..... n_estimator 51 ==== rmse: 47.93233513606447\n",
      "ETA: 1 ..... n_estimator 51 ==== rmse: 48.618115161559984\n",
      "\n",
      "________\n",
      "ETA: 0.1 ..... n_estimator 61 ==== rmse: 46.29238901203525\n",
      "ETA: 0.2 ..... n_estimator 61 ==== rmse: 43.35825827251322\n",
      "ETA: 0.3 ..... n_estimator 61 ==== rmse: 41.962039161314735\n",
      "ETA: 0.4 ..... n_estimator 61 ==== rmse: 41.585006462894775\n",
      "ETA: 0.5 ..... n_estimator 61 ==== rmse: 42.569297961894414\n",
      "ETA: 0.6 ..... n_estimator 61 ==== rmse: 43.46867690126684\n",
      "ETA: 0.7 ..... n_estimator 61 ==== rmse: 43.337732565724906\n",
      "ETA: 0.8 ..... n_estimator 61 ==== rmse: 45.67296317947788\n",
      "ETA: 0.9 ..... n_estimator 61 ==== rmse: 47.41440490201842\n",
      "ETA: 1 ..... n_estimator 61 ==== rmse: 48.27217598346445\n",
      "\n",
      "________\n",
      "ETA: 0.1 ..... n_estimator 71 ==== rmse: 45.222593529749886\n",
      "ETA: 0.2 ..... n_estimator 71 ==== rmse: 42.58178903333475\n",
      "ETA: 0.3 ..... n_estimator 71 ==== rmse: 41.283532237675175\n",
      "ETA: 0.4 ..... n_estimator 71 ==== rmse: 41.40986465787868\n",
      "ETA: 0.5 ..... n_estimator 71 ==== rmse: 42.324047972756794\n",
      "ETA: 0.6 ..... n_estimator 71 ==== rmse: 42.975052148944464\n",
      "ETA: 0.7 ..... n_estimator 71 ==== rmse: 43.21058029344344\n",
      "ETA: 0.8 ..... n_estimator 71 ==== rmse: 45.53220816141631\n",
      "ETA: 0.9 ..... n_estimator 71 ==== rmse: 47.25234341356977\n",
      "ETA: 1 ..... n_estimator 71 ==== rmse: 48.342552642843934\n",
      "\n",
      "________\n",
      "ETA: 0.1 ..... n_estimator 81 ==== rmse: 44.461563149597026\n",
      "ETA: 0.2 ..... n_estimator 81 ==== rmse: 42.00027867950566\n",
      "ETA: 0.3 ..... n_estimator 81 ==== rmse: 40.85960723894762\n",
      "ETA: 0.4 ..... n_estimator 81 ==== rmse: 41.21839724414315\n",
      "ETA: 0.5 ..... n_estimator 81 ==== rmse: 41.9184514315069\n",
      "ETA: 0.6 ..... n_estimator 81 ==== rmse: 42.65154003368051\n",
      "ETA: 0.7 ..... n_estimator 81 ==== rmse: 42.91873367357013\n",
      "ETA: 0.8 ..... n_estimator 81 ==== rmse: 45.219050457962716\n",
      "ETA: 0.9 ..... n_estimator 81 ==== rmse: 47.00568921443976\n",
      "ETA: 1 ..... n_estimator 81 ==== rmse: 48.569142531792195\n",
      "\n",
      "________\n",
      "ETA: 0.1 ..... n_estimator 91 ==== rmse: 43.87765875956556\n",
      "ETA: 0.2 ..... n_estimator 91 ==== rmse: 41.4738988208158\n",
      "ETA: 0.3 ..... n_estimator 91 ==== rmse: 40.644549481612664\n",
      "ETA: 0.4 ..... n_estimator 91 ==== rmse: 41.02737414629691\n",
      "ETA: 0.5 ..... n_estimator 91 ==== rmse: 41.80754459937124\n",
      "ETA: 0.6 ..... n_estimator 91 ==== rmse: 42.109273297352686\n",
      "ETA: 0.7 ..... n_estimator 91 ==== rmse: 42.69392245998095\n",
      "ETA: 0.8 ..... n_estimator 91 ==== rmse: 45.099592329944464\n",
      "ETA: 0.9 ..... n_estimator 91 ==== rmse: 46.5957755208222\n",
      "ETA: 1 ..... n_estimator 91 ==== rmse: 48.851134105794756\n",
      "\n",
      "________\n"
     ]
    }
   ],
   "source": [
    "eta = [.1,.2,.3,.4,.5,.6,.7,.8,.9,1]\n",
    "\n",
    "for n in range(1,100,10):\n",
    "    for i in eta:\n",
    "        accuracies = rmse_model(xgb.XGBRegressor(eta = i, n_estimators = n))\n",
    "        print (f'ETA: {i} ..... n_estimator {n} ==== rmse: {accuracies}')\n",
    "    print ('\\n________')"
   ]
  },
  {
   "cell_type": "code",
   "execution_count": 19,
   "metadata": {},
   "outputs": [
    {
     "name": "stdout",
     "output_type": "stream",
     "text": [
      "ETA: 0.1 ..... max_depth 1.... n_estimator 51 ==== rmse: 126.33260020438496\n",
      "ETA: 0.2 ..... max_depth 1.... n_estimator 51 ==== rmse: 115.47232983611282\n",
      "ETA: 0.3 ..... max_depth 1.... n_estimator 51 ==== rmse: 111.19413283164062\n",
      "ETA: 0.4 ..... max_depth 1.... n_estimator 51 ==== rmse: 108.97168922426113\n",
      "ETA: 0.5 ..... max_depth 1.... n_estimator 51 ==== rmse: 107.8337632363218\n",
      "ETA: 0.6 ..... max_depth 1.... n_estimator 51 ==== rmse: 107.0138752028525\n",
      "ETA: 0.7 ..... max_depth 1.... n_estimator 51 ==== rmse: 106.14848314103125\n",
      "ETA: 0.8 ..... max_depth 1.... n_estimator 51 ==== rmse: 106.09838202694888\n",
      "ETA: 0.9 ..... max_depth 1.... n_estimator 51 ==== rmse: 105.93712697588998\n",
      "ETA: 1 ..... max_depth 1.... n_estimator 51 ==== rmse: 105.84821639443567\n",
      "\n",
      "________\n",
      "ETA: 0.1 ..... max_depth 4.... n_estimator 51 ==== rmse: 66.07200945155569\n",
      "ETA: 0.2 ..... max_depth 4.... n_estimator 51 ==== rmse: 55.58443464643734\n",
      "ETA: 0.3 ..... max_depth 4.... n_estimator 51 ==== rmse: 53.75493420298676\n",
      "ETA: 0.4 ..... max_depth 4.... n_estimator 51 ==== rmse: 48.80866912067667\n",
      "ETA: 0.5 ..... max_depth 4.... n_estimator 51 ==== rmse: 50.301190917272756\n",
      "ETA: 0.6 ..... max_depth 4.... n_estimator 51 ==== rmse: 50.622638658250345\n",
      "ETA: 0.7 ..... max_depth 4.... n_estimator 51 ==== rmse: 55.10841433134773\n",
      "ETA: 0.8 ..... max_depth 4.... n_estimator 51 ==== rmse: 54.19354777848264\n",
      "ETA: 0.9 ..... max_depth 4.... n_estimator 51 ==== rmse: 49.91755539878625\n",
      "ETA: 1 ..... max_depth 4.... n_estimator 51 ==== rmse: 56.068404564961426\n",
      "\n",
      "________\n",
      "ETA: 0.1 ..... max_depth 7.... n_estimator 51 ==== rmse: 43.17129559486228\n",
      "ETA: 0.2 ..... max_depth 7.... n_estimator 51 ==== rmse: 41.395899683266094\n",
      "ETA: 0.3 ..... max_depth 7.... n_estimator 51 ==== rmse: 40.521015375958314\n",
      "ETA: 0.4 ..... max_depth 7.... n_estimator 51 ==== rmse: 41.448733312166986\n",
      "ETA: 0.5 ..... max_depth 7.... n_estimator 51 ==== rmse: 42.94878654942886\n",
      "ETA: 0.6 ..... max_depth 7.... n_estimator 51 ==== rmse: 41.62250933587572\n",
      "ETA: 0.7 ..... max_depth 7.... n_estimator 51 ==== rmse: 44.004507880732284\n",
      "ETA: 0.8 ..... max_depth 7.... n_estimator 51 ==== rmse: 46.24868467849901\n",
      "ETA: 0.9 ..... max_depth 7.... n_estimator 51 ==== rmse: 50.86790725378031\n",
      "ETA: 1 ..... max_depth 7.... n_estimator 51 ==== rmse: 49.67185979963399\n",
      "\n",
      "________\n",
      "ETA: 0.1 ..... max_depth 10.... n_estimator 51 ==== rmse: 38.69648332897053\n",
      "ETA: 0.2 ..... max_depth 10.... n_estimator 51 ==== rmse: 37.83334245170792\n",
      "ETA: 0.3 ..... max_depth 10.... n_estimator 51 ==== rmse: 38.01442643383859\n",
      "ETA: 0.4 ..... max_depth 10.... n_estimator 51 ==== rmse: 38.45373501457768\n",
      "ETA: 0.5 ..... max_depth 10.... n_estimator 51 ==== rmse: 40.20018128650473\n",
      "ETA: 0.6 ..... max_depth 10.... n_estimator 51 ==== rmse: 42.440120436039756\n",
      "ETA: 0.7 ..... max_depth 10.... n_estimator 51 ==== rmse: 44.93510688080002\n",
      "ETA: 0.8 ..... max_depth 10.... n_estimator 51 ==== rmse: 46.5737858176938\n",
      "ETA: 0.9 ..... max_depth 10.... n_estimator 51 ==== rmse: 48.31964650980547\n",
      "ETA: 1 ..... max_depth 10.... n_estimator 51 ==== rmse: 52.6858983911684\n",
      "\n",
      "________\n",
      "ETA: 0.1 ..... max_depth 13.... n_estimator 51 ==== rmse: 38.8286931207533\n",
      "ETA: 0.2 ..... max_depth 13.... n_estimator 51 ==== rmse: 38.57394407602539\n",
      "ETA: 0.3 ..... max_depth 13.... n_estimator 51 ==== rmse: 39.45936401164416\n",
      "ETA: 0.4 ..... max_depth 13.... n_estimator 51 ==== rmse: 40.017631682951716\n",
      "ETA: 0.5 ..... max_depth 13.... n_estimator 51 ==== rmse: 41.646664150841104\n",
      "ETA: 0.6 ..... max_depth 13.... n_estimator 51 ==== rmse: 43.23051044364025\n",
      "ETA: 0.7 ..... max_depth 13.... n_estimator 51 ==== rmse: 46.19582249206192\n",
      "ETA: 0.8 ..... max_depth 13.... n_estimator 51 ==== rmse: 47.25218946202927\n",
      "ETA: 0.9 ..... max_depth 13.... n_estimator 51 ==== rmse: 49.97362931942635\n",
      "ETA: 1 ..... max_depth 13.... n_estimator 51 ==== rmse: 54.261366581988774\n",
      "\n",
      "________\n",
      "ETA: 0.1 ..... max_depth 16.... n_estimator 51 ==== rmse: 39.53825896334902\n",
      "ETA: 0.2 ..... max_depth 16.... n_estimator 51 ==== rmse: 39.8702767667221\n",
      "ETA: 0.3 ..... max_depth 16.... n_estimator 51 ==== rmse: 40.19756421644184\n",
      "ETA: 0.4 ..... max_depth 16.... n_estimator 51 ==== rmse: 40.962679906010756\n",
      "ETA: 0.5 ..... max_depth 16.... n_estimator 51 ==== rmse: 41.910254279465114\n",
      "ETA: 0.6 ..... max_depth 16.... n_estimator 51 ==== rmse: 43.66513359331989\n",
      "ETA: 0.7 ..... max_depth 16.... n_estimator 51 ==== rmse: 45.86250828455672\n",
      "ETA: 0.8 ..... max_depth 16.... n_estimator 51 ==== rmse: 48.31795153076772\n",
      "ETA: 0.9 ..... max_depth 16.... n_estimator 51 ==== rmse: 50.54068325425778\n",
      "ETA: 1 ..... max_depth 16.... n_estimator 51 ==== rmse: 54.3324693499571\n",
      "\n",
      "________\n",
      "ETA: 0.1 ..... max_depth 19.... n_estimator 51 ==== rmse: 40.310955454013154\n",
      "ETA: 0.2 ..... max_depth 19.... n_estimator 51 ==== rmse: 39.73457085545568\n",
      "ETA: 0.3 ..... max_depth 19.... n_estimator 51 ==== rmse: 40.987657622175874\n",
      "ETA: 0.4 ..... max_depth 19.... n_estimator 51 ==== rmse: 41.436757604966175\n",
      "ETA: 0.5 ..... max_depth 19.... n_estimator 51 ==== rmse: 42.63548342670739\n",
      "ETA: 0.6 ..... max_depth 19.... n_estimator 51 ==== rmse: 43.88952223881557\n",
      "ETA: 0.7 ..... max_depth 19.... n_estimator 51 ==== rmse: 46.418477671929914\n",
      "ETA: 0.8 ..... max_depth 19.... n_estimator 51 ==== rmse: 48.15879120879755\n",
      "ETA: 0.9 ..... max_depth 19.... n_estimator 51 ==== rmse: 50.826934185407666\n",
      "ETA: 1 ..... max_depth 19.... n_estimator 51 ==== rmse: 53.435241107080806\n",
      "\n",
      "________\n"
     ]
    }
   ],
   "source": [
    "\n",
    "for m in range(1,20,3):\n",
    "    for i in eta:\n",
    "        accuracies = rmse_model(xgb.XGBRegressor(eta = i, n_estimators = 51, max_depth = m))\n",
    "      #  overall_accuracies.append(accuracies)\n",
    "        print (f'ETA: {i} ..... max_depth {m}.... n_estimator 51 ==== rmse: {accuracies}')\n",
    "    print ('\\n________')\n",
    "#    print ('\\n________')"
   ]
  },
  {
   "cell_type": "raw",
   "metadata": {},
   "source": [
    "XGBRegressor:\n",
    "ETA: 0.3 .... max_depth 10.... n_estimator 51\n",
    "eta at 0.3 is the default"
   ]
  },
  {
   "cell_type": "code",
   "execution_count": 20,
   "metadata": {},
   "outputs": [
    {
     "name": "stdout",
     "output_type": "stream",
     "text": [
      "{'objective': 'reg:squarederror', 'base_score': 0.5, 'booster': 'gbtree', 'colsample_bylevel': 1, 'colsample_bynode': 1, 'colsample_bytree': 1, 'gamma': 0, 'gpu_id': -1, 'importance_type': 'gain', 'interaction_constraints': '', 'learning_rate': 0.300000012, 'max_delta_step': 0, 'max_depth': 10, 'min_child_weight': 1, 'missing': nan, 'monotone_constraints': '()', 'n_estimators': 51, 'n_jobs': 12, 'num_parallel_tree': 1, 'random_state': 0, 'reg_alpha': 0, 'reg_lambda': 1, 'scale_pos_weight': 1, 'subsample': 1, 'tree_method': 'exact', 'validate_parameters': 1, 'verbosity': None}\n"
     ]
    },
    {
     "data": {
      "text/plain": [
       "38.01442643383859"
      ]
     },
     "execution_count": 20,
     "metadata": {},
     "output_type": "execute_result"
    }
   ],
   "source": [
    "xgb_regressor = rmse_param_model(xgb.XGBRegressor(n_estimators = 51, max_depth = 10))\n",
    "xgb_regressor"
   ]
  },
  {
   "cell_type": "code",
   "execution_count": null,
   "metadata": {},
   "outputs": [],
   "source": []
  }
 ],
 "metadata": {
  "kernelspec": {
   "display_name": "Python 3",
   "language": "python",
   "name": "python3"
  },
  "language_info": {
   "codemirror_mode": {
    "name": "ipython",
    "version": 3
   },
   "file_extension": ".py",
   "mimetype": "text/x-python",
   "name": "python",
   "nbconvert_exporter": "python",
   "pygments_lexer": "ipython3",
   "version": "3.8.5"
  }
 },
 "nbformat": 4,
 "nbformat_minor": 4
}
