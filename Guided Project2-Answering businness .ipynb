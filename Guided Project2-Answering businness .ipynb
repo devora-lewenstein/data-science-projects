{
 "cells": [
  {
   "cell_type": "code",
   "execution_count": 1,
   "metadata": {
    "collapsed": false,
    "jupyter": {
     "outputs_hidden": false
    }
   },
   "outputs": [],
   "source": [
    "%%capture\n",
    "%load_ext sql\n",
    "%sql sqlite:///chinook.db"
   ]
  },
  {
   "cell_type": "code",
   "execution_count": 2,
   "metadata": {
    "collapsed": false,
    "jupyter": {
     "outputs_hidden": false
    }
   },
   "outputs": [
    {
     "name": "stdout",
     "output_type": "stream",
     "text": [
      " * sqlite:///chinook.db\n",
      "Done.\n"
     ]
    },
    {
     "data": {
      "text/html": [
       "<table>\n",
       "    <thead>\n",
       "        <tr>\n",
       "            <th>name</th>\n",
       "            <th>type</th>\n",
       "        </tr>\n",
       "    </thead>\n",
       "    <tbody>\n",
       "        <tr>\n",
       "            <td>album</td>\n",
       "            <td>table</td>\n",
       "        </tr>\n",
       "        <tr>\n",
       "            <td>artist</td>\n",
       "            <td>table</td>\n",
       "        </tr>\n",
       "        <tr>\n",
       "            <td>customer</td>\n",
       "            <td>table</td>\n",
       "        </tr>\n",
       "        <tr>\n",
       "            <td>employee</td>\n",
       "            <td>table</td>\n",
       "        </tr>\n",
       "        <tr>\n",
       "            <td>genre</td>\n",
       "            <td>table</td>\n",
       "        </tr>\n",
       "        <tr>\n",
       "            <td>invoice</td>\n",
       "            <td>table</td>\n",
       "        </tr>\n",
       "        <tr>\n",
       "            <td>invoice_line</td>\n",
       "            <td>table</td>\n",
       "        </tr>\n",
       "        <tr>\n",
       "            <td>media_type</td>\n",
       "            <td>table</td>\n",
       "        </tr>\n",
       "        <tr>\n",
       "            <td>playlist</td>\n",
       "            <td>table</td>\n",
       "        </tr>\n",
       "        <tr>\n",
       "            <td>playlist_track</td>\n",
       "            <td>table</td>\n",
       "        </tr>\n",
       "        <tr>\n",
       "            <td>track</td>\n",
       "            <td>table</td>\n",
       "        </tr>\n",
       "    </tbody>\n",
       "</table>"
      ],
      "text/plain": [
       "[('album', 'table'),\n",
       " ('artist', 'table'),\n",
       " ('customer', 'table'),\n",
       " ('employee', 'table'),\n",
       " ('genre', 'table'),\n",
       " ('invoice', 'table'),\n",
       " ('invoice_line', 'table'),\n",
       " ('media_type', 'table'),\n",
       " ('playlist', 'table'),\n",
       " ('playlist_track', 'table'),\n",
       " ('track', 'table')]"
      ]
     },
     "execution_count": 2,
     "metadata": {},
     "output_type": "execute_result"
    }
   ],
   "source": [
    "%%sql\n",
    "SELECT\n",
    "    name,\n",
    "    type\n",
    "FROM sqlite_master\n",
    "WHERE type IN (\"table\",\"view\");"
   ]
  },
  {
   "cell_type": "code",
   "execution_count": 3,
   "metadata": {
    "collapsed": false,
    "jupyter": {
     "outputs_hidden": false
    }
   },
   "outputs": [
    {
     "name": "stdout",
     "output_type": "stream",
     "text": [
      " * sqlite:///chinook.db\n",
      "Done.\n"
     ]
    },
    {
     "data": {
      "text/html": [
       "<table>\n",
       "    <thead>\n",
       "        <tr>\n",
       "            <th>track_id</th>\n",
       "            <th>name</th>\n",
       "            <th>album_id</th>\n",
       "            <th>media_type_id</th>\n",
       "            <th>genre_id</th>\n",
       "            <th>composer</th>\n",
       "            <th>milliseconds</th>\n",
       "            <th>bytes</th>\n",
       "            <th>unit_price</th>\n",
       "        </tr>\n",
       "    </thead>\n",
       "    <tbody>\n",
       "        <tr>\n",
       "            <td>1</td>\n",
       "            <td>For Those About To Rock (We Salute You)</td>\n",
       "            <td>1</td>\n",
       "            <td>1</td>\n",
       "            <td>1</td>\n",
       "            <td>Angus Young, Malcolm Young, Brian Johnson</td>\n",
       "            <td>343719</td>\n",
       "            <td>11170334</td>\n",
       "            <td>0.99</td>\n",
       "        </tr>\n",
       "        <tr>\n",
       "            <td>2</td>\n",
       "            <td>Balls to the Wall</td>\n",
       "            <td>2</td>\n",
       "            <td>2</td>\n",
       "            <td>1</td>\n",
       "            <td>None</td>\n",
       "            <td>342562</td>\n",
       "            <td>5510424</td>\n",
       "            <td>0.99</td>\n",
       "        </tr>\n",
       "        <tr>\n",
       "            <td>3</td>\n",
       "            <td>Fast As a Shark</td>\n",
       "            <td>3</td>\n",
       "            <td>2</td>\n",
       "            <td>1</td>\n",
       "            <td>F. Baltes, S. Kaufman, U. Dirkscneider &amp; W. Hoffman</td>\n",
       "            <td>230619</td>\n",
       "            <td>3990994</td>\n",
       "            <td>0.99</td>\n",
       "        </tr>\n",
       "        <tr>\n",
       "            <td>4</td>\n",
       "            <td>Restless and Wild</td>\n",
       "            <td>3</td>\n",
       "            <td>2</td>\n",
       "            <td>1</td>\n",
       "            <td>F. Baltes, R.A. Smith-Diesel, S. Kaufman, U. Dirkscneider &amp; W. Hoffman</td>\n",
       "            <td>252051</td>\n",
       "            <td>4331779</td>\n",
       "            <td>0.99</td>\n",
       "        </tr>\n",
       "        <tr>\n",
       "            <td>5</td>\n",
       "            <td>Princess of the Dawn</td>\n",
       "            <td>3</td>\n",
       "            <td>2</td>\n",
       "            <td>1</td>\n",
       "            <td>Deaffy &amp; R.A. Smith-Diesel</td>\n",
       "            <td>375418</td>\n",
       "            <td>6290521</td>\n",
       "            <td>0.99</td>\n",
       "        </tr>\n",
       "    </tbody>\n",
       "</table>"
      ],
      "text/plain": [
       "[(1, 'For Those About To Rock (We Salute You)', 1, 1, 1, 'Angus Young, Malcolm Young, Brian Johnson', 343719, 11170334, 0.99),\n",
       " (2, 'Balls to the Wall', 2, 2, 1, None, 342562, 5510424, 0.99),\n",
       " (3, 'Fast As a Shark', 3, 2, 1, 'F. Baltes, S. Kaufman, U. Dirkscneider & W. Hoffman', 230619, 3990994, 0.99),\n",
       " (4, 'Restless and Wild', 3, 2, 1, 'F. Baltes, R.A. Smith-Diesel, S. Kaufman, U. Dirkscneider & W. Hoffman', 252051, 4331779, 0.99),\n",
       " (5, 'Princess of the Dawn', 3, 2, 1, 'Deaffy & R.A. Smith-Diesel', 375418, 6290521, 0.99)]"
      ]
     },
     "execution_count": 3,
     "metadata": {},
     "output_type": "execute_result"
    }
   ],
   "source": [
    "%%sql\n",
    "SELECT * FROM track LIMIT 5;"
   ]
  },
  {
   "cell_type": "code",
   "execution_count": 4,
   "metadata": {
    "collapsed": false,
    "jupyter": {
     "outputs_hidden": false
    }
   },
   "outputs": [
    {
     "name": "stdout",
     "output_type": "stream",
     "text": [
      " * sqlite:///chinook.db\n",
      "Done.\n"
     ]
    },
    {
     "data": {
      "text/html": [
       "<table>\n",
       "    <thead>\n",
       "        <tr>\n",
       "            <th>name</th>\n",
       "            <th>track_amount</th>\n",
       "            <th>per_track</th>\n",
       "        </tr>\n",
       "    </thead>\n",
       "    <tbody>\n",
       "        <tr>\n",
       "            <td>Rock</td>\n",
       "            <td>561</td>\n",
       "            <td>53.38</td>\n",
       "        </tr>\n",
       "        <tr>\n",
       "            <td>Alternative &amp; Punk</td>\n",
       "            <td>130</td>\n",
       "            <td>12.37</td>\n",
       "        </tr>\n",
       "        <tr>\n",
       "            <td>Metal</td>\n",
       "            <td>124</td>\n",
       "            <td>11.8</td>\n",
       "        </tr>\n",
       "        <tr>\n",
       "            <td>R&amp;B/Soul</td>\n",
       "            <td>53</td>\n",
       "            <td>5.04</td>\n",
       "        </tr>\n",
       "        <tr>\n",
       "            <td>Blues</td>\n",
       "            <td>36</td>\n",
       "            <td>3.43</td>\n",
       "        </tr>\n",
       "        <tr>\n",
       "            <td>Alternative</td>\n",
       "            <td>35</td>\n",
       "            <td>3.33</td>\n",
       "        </tr>\n",
       "        <tr>\n",
       "            <td>Pop</td>\n",
       "            <td>22</td>\n",
       "            <td>2.09</td>\n",
       "        </tr>\n",
       "        <tr>\n",
       "            <td>Latin</td>\n",
       "            <td>22</td>\n",
       "            <td>2.09</td>\n",
       "        </tr>\n",
       "        <tr>\n",
       "            <td>Hip Hop/Rap</td>\n",
       "            <td>20</td>\n",
       "            <td>1.9</td>\n",
       "        </tr>\n",
       "        <tr>\n",
       "            <td>Jazz</td>\n",
       "            <td>14</td>\n",
       "            <td>1.33</td>\n",
       "        </tr>\n",
       "        <tr>\n",
       "            <td>Easy Listening</td>\n",
       "            <td>13</td>\n",
       "            <td>1.24</td>\n",
       "        </tr>\n",
       "        <tr>\n",
       "            <td>Reggae</td>\n",
       "            <td>6</td>\n",
       "            <td>0.57</td>\n",
       "        </tr>\n",
       "        <tr>\n",
       "            <td>Electronica/Dance</td>\n",
       "            <td>5</td>\n",
       "            <td>0.48</td>\n",
       "        </tr>\n",
       "        <tr>\n",
       "            <td>Classical</td>\n",
       "            <td>4</td>\n",
       "            <td>0.38</td>\n",
       "        </tr>\n",
       "        <tr>\n",
       "            <td>Heavy Metal</td>\n",
       "            <td>3</td>\n",
       "            <td>0.29</td>\n",
       "        </tr>\n",
       "        <tr>\n",
       "            <td>Soundtrack</td>\n",
       "            <td>2</td>\n",
       "            <td>0.19</td>\n",
       "        </tr>\n",
       "        <tr>\n",
       "            <td>TV Shows</td>\n",
       "            <td>1</td>\n",
       "            <td>0.1</td>\n",
       "        </tr>\n",
       "    </tbody>\n",
       "</table>"
      ],
      "text/plain": [
       "[('Rock', 561, 53.38),\n",
       " ('Alternative & Punk', 130, 12.37),\n",
       " ('Metal', 124, 11.8),\n",
       " ('R&B/Soul', 53, 5.04),\n",
       " ('Blues', 36, 3.43),\n",
       " ('Alternative', 35, 3.33),\n",
       " ('Pop', 22, 2.09),\n",
       " ('Latin', 22, 2.09),\n",
       " ('Hip Hop/Rap', 20, 1.9),\n",
       " ('Jazz', 14, 1.33),\n",
       " ('Easy Listening', 13, 1.24),\n",
       " ('Reggae', 6, 0.57),\n",
       " ('Electronica/Dance', 5, 0.48),\n",
       " ('Classical', 4, 0.38),\n",
       " ('Heavy Metal', 3, 0.29),\n",
       " ('Soundtrack', 2, 0.19),\n",
       " ('TV Shows', 1, 0.1)]"
      ]
     },
     "execution_count": 4,
     "metadata": {},
     "output_type": "execute_result"
    }
   ],
   "source": [
    "%%sql \n",
    "WITH usa_tracks AS(\n",
    "SELECT g.name, COUNT(t.track_id) track_amount, COUNT(il.invoice_line_id) amount_invoice \n",
    "FROM genre g\n",
    "INNER JOIN track t USING (genre_id)\n",
    "INNER JOIN invoice_line il USING(track_id)\n",
    "INNER JOIN invoice i USING (invoice_id)\n",
    "INNER JOIN customer c USING (customer_id)\n",
    "WHERE country =\"USA\"\n",
    "GROUP BY g.name)\n",
    "\n",
    "SELECT name, track_amount, ROUND(CAST(track_amount AS float)/(SELECT SUM(amount_invoice) FROM usa_tracks)*100, 2) as per_track FROM usa_tracks\n",
    "GROUP BY name\n",
    "ORDER BY track_amount DESC;"
   ]
  },
  {
   "cell_type": "markdown",
   "metadata": {},
   "source": [
    "Based on genres sold in USA the best artist to buy from the four options given are:\n",
    "Red Tone - Punk, Meteor and the Girls - Pop, Slim Jim Bites - BLues"
   ]
  },
  {
   "cell_type": "code",
   "execution_count": 5,
   "metadata": {
    "collapsed": false,
    "jupyter": {
     "outputs_hidden": false
    }
   },
   "outputs": [
    {
     "name": "stdout",
     "output_type": "stream",
     "text": [
      " * sqlite:///chinook.db\n",
      "Done.\n"
     ]
    },
    {
     "data": {
      "text/html": [
       "<table>\n",
       "    <thead>\n",
       "        <tr>\n",
       "            <th>employeeName</th>\n",
       "            <th>totalPrice</th>\n",
       "            <th>hire_date</th>\n",
       "        </tr>\n",
       "    </thead>\n",
       "    <tbody>\n",
       "        <tr>\n",
       "            <td>Jane Peacock</td>\n",
       "            <td>1731.51</td>\n",
       "            <td>2017-04-01 00:00:00</td>\n",
       "        </tr>\n",
       "        <tr>\n",
       "            <td>Margaret Park</td>\n",
       "            <td>1584.0</td>\n",
       "            <td>2017-05-03 00:00:00</td>\n",
       "        </tr>\n",
       "        <tr>\n",
       "            <td>Steve Johnson</td>\n",
       "            <td>1393.92</td>\n",
       "            <td>2017-10-17 00:00:00</td>\n",
       "        </tr>\n",
       "    </tbody>\n",
       "</table>"
      ],
      "text/plain": [
       "[('Jane Peacock', 1731.51, '2017-04-01 00:00:00'),\n",
       " ('Margaret Park', 1584.0, '2017-05-03 00:00:00'),\n",
       " ('Steve Johnson', 1393.92, '2017-10-17 00:00:00')]"
      ]
     },
     "execution_count": 5,
     "metadata": {},
     "output_type": "execute_result"
    }
   ],
   "source": [
    "%%sql\n",
    "SELECT e.first_name || \" \" || e.last_name employeeName, \n",
    "ROUND(SUM(i.total),2) totalPrice, e.hire_date\n",
    "FROM invoice i \n",
    "INNER JOIN customer c  USING(customer_id)\n",
    "INNER JOIN employee e ON c.support_rep_id = e.employee_id\n",
    "GROUP BY employeeName;\n"
   ]
  },
  {
   "cell_type": "markdown",
   "metadata": {},
   "source": [
    "Here we can see that Jane Peacock made the most sales.  If you analyze from when they were hired it seems like Steve Johnson made more sales.  This is hard to compare to see who is better without knowing the date that this data was extracted.  We would be able to take that date and see sales per a month.  "
   ]
  },
  {
   "cell_type": "code",
   "execution_count": 6,
   "metadata": {
    "collapsed": false,
    "jupyter": {
     "outputs_hidden": false
    }
   },
   "outputs": [
    {
     "name": "stdout",
     "output_type": "stream",
     "text": [
      " * sqlite:///chinook.db\n",
      "Done.\n"
     ]
    },
    {
     "data": {
      "text/html": [
       "<table>\n",
       "    <thead>\n",
       "        <tr>\n",
       "            <th>country</th>\n",
       "            <th>amount_customer</th>\n",
       "            <th>total_sales</th>\n",
       "            <th>avg_sales_per_cust</th>\n",
       "            <th>avg_order</th>\n",
       "        </tr>\n",
       "    </thead>\n",
       "    <tbody>\n",
       "        <tr>\n",
       "            <td>USA</td>\n",
       "            <td>13</td>\n",
       "            <td>1040.490000000008</td>\n",
       "            <td>80.03769230769292</td>\n",
       "            <td>7.942671755725252</td>\n",
       "        </tr>\n",
       "        <tr>\n",
       "            <td>Canada</td>\n",
       "            <td>8</td>\n",
       "            <td>535.5900000000034</td>\n",
       "            <td>66.94875000000043</td>\n",
       "            <td>7.047236842105309</td>\n",
       "        </tr>\n",
       "        <tr>\n",
       "            <td>France</td>\n",
       "            <td>5</td>\n",
       "            <td>389.0700000000021</td>\n",
       "            <td>77.81400000000042</td>\n",
       "            <td>7.781400000000042</td>\n",
       "        </tr>\n",
       "        <tr>\n",
       "            <td>Brazil</td>\n",
       "            <td>5</td>\n",
       "            <td>427.68000000000245</td>\n",
       "            <td>85.53600000000048</td>\n",
       "            <td>7.011147540983647</td>\n",
       "        </tr>\n",
       "        <tr>\n",
       "            <td>Germany</td>\n",
       "            <td>4</td>\n",
       "            <td>334.6200000000016</td>\n",
       "            <td>83.6550000000004</td>\n",
       "            <td>8.161463414634186</td>\n",
       "        </tr>\n",
       "        <tr>\n",
       "            <td>United Kingdom</td>\n",
       "            <td>3</td>\n",
       "            <td>245.52000000000078</td>\n",
       "            <td>81.84000000000026</td>\n",
       "            <td>8.768571428571457</td>\n",
       "        </tr>\n",
       "        <tr>\n",
       "            <td>Portugal</td>\n",
       "            <td>2</td>\n",
       "            <td>185.13000000000022</td>\n",
       "            <td>92.56500000000011</td>\n",
       "            <td>6.3837931034482835</td>\n",
       "        </tr>\n",
       "        <tr>\n",
       "            <td>India</td>\n",
       "            <td>2</td>\n",
       "            <td>183.1500000000002</td>\n",
       "            <td>91.5750000000001</td>\n",
       "            <td>8.72142857142858</td>\n",
       "        </tr>\n",
       "        <tr>\n",
       "            <td>Czech Republic</td>\n",
       "            <td>2</td>\n",
       "            <td>273.24000000000103</td>\n",
       "            <td>136.62000000000052</td>\n",
       "            <td>9.108000000000034</td>\n",
       "        </tr>\n",
       "        <tr>\n",
       "            <td>Other</td>\n",
       "            <td>1</td>\n",
       "            <td>1094.9400000000085</td>\n",
       "            <td>72.99600000000056</td>\n",
       "            <td>7.448571428571486</td>\n",
       "        </tr>\n",
       "    </tbody>\n",
       "</table>"
      ],
      "text/plain": [
       "[('USA', 13, 1040.490000000008, 80.03769230769292, 7.942671755725252),\n",
       " ('Canada', 8, 535.5900000000034, 66.94875000000043, 7.047236842105309),\n",
       " ('France', 5, 389.0700000000021, 77.81400000000042, 7.781400000000042),\n",
       " ('Brazil', 5, 427.68000000000245, 85.53600000000048, 7.011147540983647),\n",
       " ('Germany', 4, 334.6200000000016, 83.6550000000004, 8.161463414634186),\n",
       " ('United Kingdom', 3, 245.52000000000078, 81.84000000000026, 8.768571428571457),\n",
       " ('Portugal', 2, 185.13000000000022, 92.56500000000011, 6.3837931034482835),\n",
       " ('India', 2, 183.1500000000002, 91.5750000000001, 8.72142857142858),\n",
       " ('Czech Republic', 2, 273.24000000000103, 136.62000000000052, 9.108000000000034),\n",
       " ('Other', 1, 1094.9400000000085, 72.99600000000056, 7.448571428571486)]"
      ]
     },
     "execution_count": 6,
     "metadata": {},
     "output_type": "execute_result"
    }
   ],
   "source": [
    "%%sql\n",
    "WITH other AS (\n",
    "SELECT customer_id, country, COUNT(*) amount_customer,\n",
    "    CASE \n",
    "        WHEN COUNT(*) = 1 THEN \"Other\"\n",
    "        ELSE country\n",
    "    END AS country_count\n",
    "FROM customer\n",
    "GROUP BY country\n",
    ")\n",
    "\n",
    "SELECT  o.country_count country, o.amount_customer,\n",
    "SUM(il.unit_price) total_sales,   \n",
    "SUM(il.unit_price)/COUNT(DISTINCT c.customer_id) avg_sales_per_cust, \n",
    "SUM(il.unit_price)/COUNT(DISTINCT i.invoice_id) avg_order\n",
    "FROM invoice_line il\n",
    "INNER JOIN invoice i USING (invoice_id)\n",
    "INNER JOIN customer c USING (customer_id)\n",
    "INNER JOIN other o USING (country)\n",
    "GROUP BY o.country_count\n",
    "ORDER BY o.amount_customer DESC;\n"
   ]
  },
  {
   "cell_type": "markdown",
   "metadata": {},
   "source": [
    "From here we can see that although USA has the most sales.  The highest avearage sales per a customer and average orders is Czech Republic, India, and United Kingdom.  The amount of customers in Czech Republic, India, and United Kingdom are very low so this infomation needs to be used with caution."
   ]
  },
  {
   "cell_type": "code",
   "execution_count": 7,
   "metadata": {
    "collapsed": false,
    "jupyter": {
     "outputs_hidden": false
    }
   },
   "outputs": [
    {
     "name": "stdout",
     "output_type": "stream",
     "text": [
      " * sqlite:///chinook.db\n",
      "Done.\n"
     ]
    },
    {
     "data": {
      "text/html": [
       "<table>\n",
       "    <thead>\n",
       "        <tr>\n",
       "            <th>purchased_album</th>\n",
       "            <th>number_invoices</th>\n",
       "            <th>percent_invoices</th>\n",
       "        </tr>\n",
       "    </thead>\n",
       "    <tbody>\n",
       "        <tr>\n",
       "            <td>no</td>\n",
       "            <td>498</td>\n",
       "            <td>81.11</td>\n",
       "        </tr>\n",
       "        <tr>\n",
       "            <td>yes</td>\n",
       "            <td>116</td>\n",
       "            <td>18.89</td>\n",
       "        </tr>\n",
       "    </tbody>\n",
       "</table>"
      ],
      "text/plain": [
       "[('no', 498, 81.11), ('yes', 116, 18.89)]"
      ]
     },
     "execution_count": 7,
     "metadata": {},
     "output_type": "execute_result"
    }
   ],
   "source": [
    "%%sql\n",
    "WITH track_album AS (SELECT COUNT(track_id) track_album, album_id FROM track \n",
    "GROUP BY album_id),\n",
    "\n",
    "purchased_track AS (SELECT t.album_id, COUNT(t.track_id) track_invoice, i.invoice_id \n",
    "FROM invoice i \n",
    "INNER JOIN invoice_line il USING (invoice_id)\n",
    "INNER JOIN track t USING (track_id)\n",
    "GROUP BY il.invoice_id, t.album_id\n",
    "ORDER BY il.invoice_id),\n",
    "\n",
    "purchased_track_album AS(SELECT ta.album_id, ta.track_album, MAX(pt.track_invoice) max_track, pt.invoice_id  \n",
    "FROM track_album ta\n",
    "INNER JOIN purchased_track pt USING (album_id)\n",
    "GROUP BY pt.invoice_id\n",
    "ORDER BY pt.invoice_id)\n",
    "\n",
    "SELECT \n",
    "CASE WHEN max_track = track_album THEN \"yes\"\n",
    "ELSE \"no\"\n",
    "END purchased_album,\n",
    "count(invoice_id) number_invoices, \n",
    "ROUND(CAST(count(invoice_id) AS FLOAT) / (SELECT COUNT(*) FROM invoice)*100, 2) percent_invoices\n",
    "FROM purchased_track_album\n",
    "GROUP BY purchased_album"
   ]
  },
  {
   "cell_type": "markdown",
   "metadata": {},
   "source": [
    "There is a much higher percentage of buyers who do not buy whole albumns.  There is still almost 19% of buyers buying albums, which would seem to be a high enough percentage of sells to continue selling albums."
   ]
  },
  {
   "cell_type": "code",
   "execution_count": 8,
   "metadata": {},
   "outputs": [
    {
     "name": "stdout",
     "output_type": "stream",
     "text": [
      " * sqlite:///chinook.db\n",
      "Done.\n"
     ]
    },
    {
     "data": {
      "text/html": [
       "<table>\n",
       "    <thead>\n",
       "        <tr>\n",
       "            <th>COUNT(invoice_id)</th>\n",
       "            <th>purchase_album</th>\n",
       "        </tr>\n",
       "    </thead>\n",
       "    <tbody>\n",
       "        <tr>\n",
       "            <td>492</td>\n",
       "            <td>no</td>\n",
       "        </tr>\n",
       "        <tr>\n",
       "            <td>122</td>\n",
       "            <td>yes</td>\n",
       "        </tr>\n",
       "    </tbody>\n",
       "</table>"
      ],
      "text/plain": [
       "[(492, 'no'), (122, 'yes')]"
      ]
     },
     "execution_count": 8,
     "metadata": {},
     "output_type": "execute_result"
    }
   ],
   "source": [
    "%%sql\n",
    "WITH amount_track_album AS (SELECT COUNT(track_id) track_amount, album_id FROM track\n",
    "GROUP BY album_id),\n",
    "\n",
    "track_purchased_by_album AS (SELECT t.album_id,\n",
    "COUNT(t.track_id) track_purchase_album, i.invoice_id\n",
    "FROM invoice i\n",
    "INNER JOIN invoice_line il USING (invoice_id)\n",
    "INNER JOIN track t USING (track_id)\n",
    "GROUP BY i.invoice_id),\n",
    "\n",
    "album_purchase AS (SELECT tpa.album_id, ata.track_amount, tpa.track_purchase_album, tpa.invoice_id,\n",
    "CASE\n",
    "    WHEN track_amount = track_purchase_album THEN \"yes\"\n",
    "    ELSE \"no\"\n",
    "    END purchase_album\n",
    "FROM track_purchased_by_album tpa\n",
    "INNER JOIN amount_track_album ata USING(album_id))\n",
    "\n",
    "SELECT COUNT(invoice_id), purchase_album FROM album_purchase\n",
    "GROUP BY 2;"
   ]
  },
  {
   "cell_type": "code",
   "execution_count": null,
   "metadata": {},
   "outputs": [],
   "source": []
  }
 ],
 "metadata": {
  "kernelspec": {
   "display_name": "Python 3",
   "language": "python",
   "name": "python3"
  },
  "language_info": {
   "codemirror_mode": {
    "name": "ipython",
    "version": 3
   },
   "file_extension": ".py",
   "mimetype": "text/x-python",
   "name": "python",
   "nbconvert_exporter": "python",
   "pygments_lexer": "ipython3",
   "version": "3.8.3"
  }
 },
 "nbformat": 4,
 "nbformat_minor": 4
}
